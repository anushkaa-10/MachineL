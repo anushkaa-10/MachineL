{
 "cells": [
  {
   "cell_type": "code",
   "execution_count": 1,
   "id": "f2014e8d-ab2b-4495-a2cc-c4f4e293064c",
   "metadata": {},
   "outputs": [],
   "source": [
    "import numpy as np \n",
    "import pandas as pd \n",
    "import matplotlib.pyplot as plt\n",
    "import seaborn as sns\n",
    "import sklearn \n",
    "import scipy \n",
    "from sklearn.metrics import classification_report, accuracy_score\n",
    "from sklearn.ensemble import IsolationForest"
   ]
  },
  {
   "cell_type": "code",
   "execution_count": 2,
   "id": "fa08da7b-4bf6-4f57-82ad-837dcf871e95",
   "metadata": {},
   "outputs": [],
   "source": [
    "df = pd.read_csv('Fraud.csv')"
   ]
  },
  {
   "cell_type": "code",
   "execution_count": 3,
   "id": "ccee825f-04ad-48f3-b047-77199c60a74f",
   "metadata": {},
   "outputs": [
    {
     "data": {
      "text/html": [
       "<div>\n",
       "<style scoped>\n",
       "    .dataframe tbody tr th:only-of-type {\n",
       "        vertical-align: middle;\n",
       "    }\n",
       "\n",
       "    .dataframe tbody tr th {\n",
       "        vertical-align: top;\n",
       "    }\n",
       "\n",
       "    .dataframe thead th {\n",
       "        text-align: right;\n",
       "    }\n",
       "</style>\n",
       "<table border=\"1\" class=\"dataframe\">\n",
       "  <thead>\n",
       "    <tr style=\"text-align: right;\">\n",
       "      <th></th>\n",
       "      <th>step</th>\n",
       "      <th>type</th>\n",
       "      <th>amount</th>\n",
       "      <th>nameOrig</th>\n",
       "      <th>oldbalanceOrg</th>\n",
       "      <th>newbalanceOrig</th>\n",
       "      <th>nameDest</th>\n",
       "      <th>oldbalanceDest</th>\n",
       "      <th>newbalanceDest</th>\n",
       "      <th>isFraud</th>\n",
       "      <th>isFlaggedFraud</th>\n",
       "    </tr>\n",
       "  </thead>\n",
       "  <tbody>\n",
       "    <tr>\n",
       "      <th>0</th>\n",
       "      <td>1</td>\n",
       "      <td>PAYMENT</td>\n",
       "      <td>9839.64</td>\n",
       "      <td>C1231006815</td>\n",
       "      <td>170136.0</td>\n",
       "      <td>160296.36</td>\n",
       "      <td>M1979787155</td>\n",
       "      <td>0.0</td>\n",
       "      <td>0.0</td>\n",
       "      <td>0</td>\n",
       "      <td>0</td>\n",
       "    </tr>\n",
       "    <tr>\n",
       "      <th>1</th>\n",
       "      <td>1</td>\n",
       "      <td>PAYMENT</td>\n",
       "      <td>1864.28</td>\n",
       "      <td>C1666544295</td>\n",
       "      <td>21249.0</td>\n",
       "      <td>19384.72</td>\n",
       "      <td>M2044282225</td>\n",
       "      <td>0.0</td>\n",
       "      <td>0.0</td>\n",
       "      <td>0</td>\n",
       "      <td>0</td>\n",
       "    </tr>\n",
       "    <tr>\n",
       "      <th>2</th>\n",
       "      <td>1</td>\n",
       "      <td>TRANSFER</td>\n",
       "      <td>181.00</td>\n",
       "      <td>C1305486145</td>\n",
       "      <td>181.0</td>\n",
       "      <td>0.00</td>\n",
       "      <td>C553264065</td>\n",
       "      <td>0.0</td>\n",
       "      <td>0.0</td>\n",
       "      <td>1</td>\n",
       "      <td>0</td>\n",
       "    </tr>\n",
       "    <tr>\n",
       "      <th>3</th>\n",
       "      <td>1</td>\n",
       "      <td>CASH_OUT</td>\n",
       "      <td>181.00</td>\n",
       "      <td>C840083671</td>\n",
       "      <td>181.0</td>\n",
       "      <td>0.00</td>\n",
       "      <td>C38997010</td>\n",
       "      <td>21182.0</td>\n",
       "      <td>0.0</td>\n",
       "      <td>1</td>\n",
       "      <td>0</td>\n",
       "    </tr>\n",
       "    <tr>\n",
       "      <th>4</th>\n",
       "      <td>1</td>\n",
       "      <td>PAYMENT</td>\n",
       "      <td>11668.14</td>\n",
       "      <td>C2048537720</td>\n",
       "      <td>41554.0</td>\n",
       "      <td>29885.86</td>\n",
       "      <td>M1230701703</td>\n",
       "      <td>0.0</td>\n",
       "      <td>0.0</td>\n",
       "      <td>0</td>\n",
       "      <td>0</td>\n",
       "    </tr>\n",
       "  </tbody>\n",
       "</table>\n",
       "</div>"
      ],
      "text/plain": [
       "   step      type    amount     nameOrig  oldbalanceOrg  newbalanceOrig  \\\n",
       "0     1   PAYMENT   9839.64  C1231006815       170136.0       160296.36   \n",
       "1     1   PAYMENT   1864.28  C1666544295        21249.0        19384.72   \n",
       "2     1  TRANSFER    181.00  C1305486145          181.0            0.00   \n",
       "3     1  CASH_OUT    181.00   C840083671          181.0            0.00   \n",
       "4     1   PAYMENT  11668.14  C2048537720        41554.0        29885.86   \n",
       "\n",
       "      nameDest  oldbalanceDest  newbalanceDest  isFraud  isFlaggedFraud  \n",
       "0  M1979787155             0.0             0.0        0               0  \n",
       "1  M2044282225             0.0             0.0        0               0  \n",
       "2   C553264065             0.0             0.0        1               0  \n",
       "3    C38997010         21182.0             0.0        1               0  \n",
       "4  M1230701703             0.0             0.0        0               0  "
      ]
     },
     "execution_count": 3,
     "metadata": {},
     "output_type": "execute_result"
    }
   ],
   "source": [
    "df.head()"
   ]
  },
  {
   "cell_type": "markdown",
   "id": "8de0b4cc-8a7c-4fa7-9ffd-e5324fcff765",
   "metadata": {},
   "source": [
    "#### Renaming the columns\n",
    "(So that is looks readable)"
   ]
  },
  {
   "cell_type": "code",
   "execution_count": 4,
   "id": "017649c2-073a-42e5-bfb3-bd66f02548f8",
   "metadata": {},
   "outputs": [
    {
     "name": "stdout",
     "output_type": "stream",
     "text": [
      "   step      type    amount     nameOrig  oldBalanceOrig  newBalanceOrig  \\\n",
      "0     1   PAYMENT   9839.64  C1231006815        170136.0       160296.36   \n",
      "1     1   PAYMENT   1864.28  C1666544295         21249.0        19384.72   \n",
      "2     1  TRANSFER    181.00  C1305486145           181.0            0.00   \n",
      "3     1  CASH_OUT    181.00   C840083671           181.0            0.00   \n",
      "4     1   PAYMENT  11668.14  C2048537720         41554.0        29885.86   \n",
      "\n",
      "      nameDest  oldBalanceDest  newBalanceDest  isFraud  isFlaggedFraud  \n",
      "0  M1979787155             0.0             0.0        0               0  \n",
      "1  M2044282225             0.0             0.0        0               0  \n",
      "2   C553264065             0.0             0.0        1               0  \n",
      "3    C38997010         21182.0             0.0        1               0  \n",
      "4  M1230701703             0.0             0.0        0               0  \n"
     ]
    }
   ],
   "source": [
    "df = df.rename(columns={'oldbalanceOrg':'oldBalanceOrig', 'newbalanceOrig':'newBalanceOrig', \\\n",
    "                        'oldbalanceDest':'oldBalanceDest', 'newbalanceDest':'newBalanceDest'})\n",
    "print(df.head())"
   ]
  },
  {
   "cell_type": "markdown",
   "id": "00e59fce-d683-402c-960e-9cfed6fc3522",
   "metadata": {},
   "source": [
    "#### Checking data types"
   ]
  },
  {
   "cell_type": "code",
   "execution_count": 5,
   "id": "c872a375-fc46-49f8-9c2d-52bcb12a51da",
   "metadata": {},
   "outputs": [
    {
     "data": {
      "text/plain": [
       "step                int64\n",
       "type               object\n",
       "amount            float64\n",
       "nameOrig           object\n",
       "oldBalanceOrig    float64\n",
       "newBalanceOrig    float64\n",
       "nameDest           object\n",
       "oldBalanceDest    float64\n",
       "newBalanceDest    float64\n",
       "isFraud             int64\n",
       "isFlaggedFraud      int64\n",
       "dtype: object"
      ]
     },
     "execution_count": 5,
     "metadata": {},
     "output_type": "execute_result"
    }
   ],
   "source": [
    "df.dtypes"
   ]
  },
  {
   "cell_type": "code",
   "execution_count": 6,
   "id": "f381bee8-dd18-4c6b-b090-38d17425db22",
   "metadata": {},
   "outputs": [
    {
     "data": {
      "text/plain": [
       "(6362620, 11)"
      ]
     },
     "execution_count": 6,
     "metadata": {},
     "output_type": "execute_result"
    }
   ],
   "source": [
    "df.shape"
   ]
  },
  {
   "cell_type": "markdown",
   "id": "27af30aa-c9b6-4304-9ee1-33f827fe12aa",
   "metadata": {},
   "source": [
    "#### Checking the presence of missing values"
   ]
  },
  {
   "cell_type": "code",
   "execution_count": 7,
   "id": "1368ca0b-9567-4404-be4c-ed9eaa119bbd",
   "metadata": {},
   "outputs": [
    {
     "data": {
      "text/plain": [
       "step              0\n",
       "type              0\n",
       "amount            0\n",
       "nameOrig          0\n",
       "oldBalanceOrig    0\n",
       "newBalanceOrig    0\n",
       "nameDest          0\n",
       "oldBalanceDest    0\n",
       "newBalanceDest    0\n",
       "isFraud           0\n",
       "isFlaggedFraud    0\n",
       "dtype: int64"
      ]
     },
     "execution_count": 7,
     "metadata": {},
     "output_type": "execute_result"
    }
   ],
   "source": [
    "df.isnull().sum()"
   ]
  },
  {
   "cell_type": "markdown",
   "id": "9882549d-fec7-4540-9fd5-63a84e24712e",
   "metadata": {},
   "source": [
    "# EXPLORATORY DATA ANALYSIS"
   ]
  },
  {
   "cell_type": "markdown",
   "id": "d32ffd84-41d5-412b-81fb-3c490c44fa99",
   "metadata": {},
   "source": [
    "#### Checking fraudlent transactions\n",
    "(TRANSFER AND CASH_OUT)"
   ]
  },
  {
   "cell_type": "code",
   "execution_count": 44,
   "id": "ddf69b2d-c7f2-4637-a166-5091d4ab8166",
   "metadata": {},
   "outputs": [
    {
     "name": "stdout",
     "output_type": "stream",
     "text": [
      "The types of fraudulent transactions are =['TRANSFER', 'CASH_OUT']\n",
      "\n",
      " The number of fraudulent TRANSFERs = 4097\n",
      "\n",
      " The number of fraudulent CASH_OUTs = 4116\n"
     ]
    }
   ],
   "source": [
    "print('The types of fraudulent transactions are ={}'.format(\\\n",
    "list(df.loc[df.isFraud == 1].type.drop_duplicates().values))) \n",
    "\n",
    "dft = df.loc[(df.isFraud == 1) & (df.type == 'TRANSFER')]\n",
    "dfc = df.loc[(df.isFraud == 1) & (df.type == 'CASH_OUT')]\n",
    "\n",
    "print ('\\n The number of fraudulent TRANSFERs = {}'.\\\n",
    "       format(len(dft))) \n",
    "\n",
    "print ('\\n The number of fraudulent CASH_OUTs = {}'.\\\n",
    "       format(len(dfc))) "
   ]
  },
  {
   "cell_type": "markdown",
   "id": "4bbd2fb6-2438-448a-8f61-00011fe15ce5",
   "metadata": {},
   "source": [
    "#### FlaggedFraud Transactions\n",
    "(TRANSFER)"
   ]
  },
  {
   "cell_type": "code",
   "execution_count": 9,
   "id": "b53279ee-68be-4069-bf28-d374a2fb4812",
   "metadata": {},
   "outputs": [
    {
     "name": "stdout",
     "output_type": "stream",
     "text": [
      "\n",
      "The type of transactions in which isFlaggedFraud is set: ['TRANSFER']\n",
      "\n",
      "Min amount transacted when isFlaggedFraud is set= 353874.22\n",
      "\n",
      "Max amount transacted in a TRANSFER where isFlaggedFraud is not set= 92445516.64\n"
     ]
    }
   ],
   "source": [
    "print('\\nThe type of transactions in which isFlaggedFraud is set: \\\n",
    "{}'.format(list(df.loc[df.isFlaggedFraud == 1].type.drop_duplicates()))) \n",
    "                                                            \n",
    "\n",
    "dfTransfer = df.loc[df.type == 'TRANSFER']\n",
    "dfFlagged = df.loc[df.isFlaggedFraud == 1]\n",
    "dfNotFlagged = df.loc[df.isFlaggedFraud == 0]\n",
    "\n",
    "print('\\nMin amount transacted when isFlaggedFraud is set= {}'\\\n",
    "                                  .format(dfFlagged.amount.min()))\n",
    "\n",
    "print('\\nMax amount transacted in a TRANSFER where isFlaggedFraud is not set=\\\n",
    " {}'.format(dfTransfer.loc[dfTransfer.isFlaggedFraud == 0].amount.max())) \n"
   ]
  },
  {
   "cell_type": "markdown",
   "id": "631e5057-5cd8-40c1-a1e5-561b9d273b35",
   "metadata": {},
   "source": [
    "#### expected merchant accounts accordingly labelled?\n",
    "\n",
    "Since, 'M' prefix involves payment by a merchant."
   ]
  },
  {
   "cell_type": "code",
   "execution_count": 10,
   "id": "5abaf8d4-446f-438a-bfeb-dcf3bacbe18a",
   "metadata": {},
   "outputs": [
    {
     "data": {
      "text/plain": [
       "False"
      ]
     },
     "execution_count": 10,
     "metadata": {},
     "output_type": "execute_result"
    }
   ],
   "source": [
    "df.loc[df.type == 'CASH_IN'].nameOrig.str.contains('M').any()"
   ]
  },
  {
   "cell_type": "code",
   "execution_count": 11,
   "id": "b908563c-d79b-4b95-a662-0aab1f91e0f3",
   "metadata": {},
   "outputs": [
    {
     "data": {
      "text/plain": [
       "False"
      ]
     },
     "execution_count": 11,
     "metadata": {},
     "output_type": "execute_result"
    }
   ],
   "source": [
    "df.nameOrig.str.contains('M').any()"
   ]
  },
  {
   "cell_type": "code",
   "execution_count": 12,
   "id": "5c061e05-aeb4-4f88-925f-962634337cd6",
   "metadata": {},
   "outputs": [
    {
     "data": {
      "text/plain": [
       "False"
      ]
     },
     "execution_count": 12,
     "metadata": {},
     "output_type": "execute_result"
    }
   ],
   "source": [
    "(df.loc[df.nameDest.str.contains('M')].type != 'PAYMENT').any()"
   ]
  },
  {
   "cell_type": "code",
   "execution_count": 13,
   "id": "44df0044-b471-4f52-ae45-2b876dade78f",
   "metadata": {},
   "outputs": [
    {
     "data": {
      "text/plain": [
       "False"
      ]
     },
     "execution_count": 13,
     "metadata": {},
     "output_type": "execute_result"
    }
   ],
   "source": [
    "(dft.nameDest.isin(dfc.nameOrig)).any()"
   ]
  },
  {
   "cell_type": "code",
   "execution_count": 14,
   "id": "327adfb2-fe01-4d47-9aaa-9be1386edc74",
   "metadata": {},
   "outputs": [],
   "source": [
    "dfNotFraud = df.loc[df.isFraud == 0]"
   ]
  },
  {
   "cell_type": "markdown",
   "id": "6f299c35-03d9-45a9-bf26-38ad5dbaf072",
   "metadata": {},
   "source": [
    "#### Are there account labels common to fraudulent TRANSFERs and CASH_OUTs?"
   ]
  },
  {
   "cell_type": "code",
   "execution_count": 15,
   "id": "455cc3a6-80f1-4b1e-8141-05235db37a7f",
   "metadata": {},
   "outputs": [
    {
     "name": "stdout",
     "output_type": "stream",
     "text": [
      "\n",
      "Fraudulent TRANSFERs whose destination accounts are originators of genuine CASH_OUTs: \n",
      "\n",
      "         step      type      amount     nameOrig  oldBalanceOrig  \\\n",
      "1030443    65  TRANSFER  1282971.57  C1175896731      1282971.57   \n",
      "6039814   486  TRANSFER   214793.32  C2140495649       214793.32   \n",
      "6362556   738  TRANSFER   814689.88  C2029041842       814689.88   \n",
      "\n",
      "         newBalanceOrig     nameDest  oldBalanceDest  newBalanceDest  isFraud  \\\n",
      "1030443             0.0  C1714931087             0.0             0.0        1   \n",
      "6039814             0.0   C423543548             0.0             0.0        1   \n",
      "6362556             0.0  C1023330867             0.0             0.0        1   \n",
      "\n",
      "         isFlaggedFraud  \n",
      "1030443               0  \n",
      "6039814               0  \n",
      "6362556               0  \n"
     ]
    }
   ],
   "source": [
    "print('\\nFraudulent TRANSFERs whose destination accounts are originators of \\\n",
    "genuine CASH_OUTs: \\n\\n{}'.format(dft.loc[dft.nameDest.\\\n",
    "isin(dfNotFraud.loc[dfNotFraud.type == 'CASH_OUT'].nameOrig.drop_duplicates())]))"
   ]
  },
  {
   "cell_type": "code",
   "execution_count": 16,
   "id": "5c5476f7-b176-4a08-82ff-00fcf57b7f01",
   "metadata": {},
   "outputs": [
    {
     "name": "stdout",
     "output_type": "stream",
     "text": [
      "\n",
      "Fraudulent TRANSFER to C423543548 occured at step = 486 whereas genuine CASH_OUT from this account occured earlier at step = [185]\n"
     ]
    }
   ],
   "source": [
    "print('\\nFraudulent TRANSFER to C423543548 occured at step = 486 whereas \\\n",
    "genuine CASH_OUT from this account occured earlier at step = {}'.format(\\\n",
    "dfNotFraud.loc[(dfNotFraud.type == 'CASH_OUT') & (dfNotFraud.nameOrig == \\\n",
    "                           'C423543548')].step.values)) # 185"
   ]
  },
  {
   "cell_type": "code",
   "execution_count": 17,
   "id": "1f6e2970-936d-44ce-a038-20258b5c6680",
   "metadata": {},
   "outputs": [
    {
     "name": "stderr",
     "output_type": "stream",
     "text": [
      "/var/folders/pd/cn2f6bwj5xldgl8r6p_2vr640000gn/T/ipykernel_4345/518261536.py:1: FutureWarning: pandas.value_counts is deprecated and will be removed in a future version. Use pd.Series(obj).value_counts() instead.\n",
      "  fraud_check = pd.value_counts(df['isFraud'], sort =True)\n"
     ]
    },
    {
     "data": {
      "image/png": "[encoded data removed]",
      "text/plain": [
       "<Figure size 640x480 with 1 Axes>"
      ]
     },
     "metadata": {},
     "output_type": "display_data"
    }
   ],
   "source": [
    "fraud_check = pd.value_counts(df['isFraud'], sort =True)\n",
    "fraud_check.plot(kind = 'bar', rot=0, color='g')\n",
    "plt.title(\"Normal and fraud distribution\")\n",
    "plt.xlabel(\"Class\")\n",
    "plt.ylabel(\"Frequency\")\n",
    "Labels = ['Normal','Fraud']\n",
    "plt.xticks(range(2), Labels)\n",
    "plt.show()"
   ]
  },
  {
   "cell_type": "code",
   "execution_count": 18,
   "id": "00121c65-6f9d-49c6-b568-9f43d22013af",
   "metadata": {},
   "outputs": [],
   "source": [
    "fraud_people = df[df['isFraud']==1]\n",
    "normal_people = df[df['isFraud']==0]"
   ]
  },
  {
   "cell_type": "code",
   "execution_count": 19,
   "id": "de2d1d6e-785e-4f3f-afa0-dd8f75390631",
   "metadata": {},
   "outputs": [
    {
     "data": {
      "text/plain": [
       "(8213, 11)"
      ]
     },
     "execution_count": 19,
     "metadata": {},
     "output_type": "execute_result"
    }
   ],
   "source": [
    "fraud_people.shape"
   ]
  },
  {
   "cell_type": "code",
   "execution_count": 20,
   "id": "e6104a6a-827e-474c-aa1e-1269ff1e1653",
   "metadata": {},
   "outputs": [
    {
     "data": {
      "text/plain": [
       "(6354407, 11)"
      ]
     },
     "execution_count": 20,
     "metadata": {},
     "output_type": "execute_result"
    }
   ],
   "source": [
    "normal_people.shape"
   ]
  },
  {
   "cell_type": "code",
   "execution_count": 21,
   "id": "56d0d741-ac9e-4839-8f09-a5135cc1422a",
   "metadata": {},
   "outputs": [
    {
     "data": {
      "text/plain": [
       "count    8.213000e+03\n",
       "mean     1.467967e+06\n",
       "std      2.404253e+06\n",
       "min      0.000000e+00\n",
       "25%      1.270913e+05\n",
       "50%      4.414234e+05\n",
       "75%      1.517771e+06\n",
       "max      1.000000e+07\n",
       "Name: amount, dtype: float64"
      ]
     },
     "execution_count": 21,
     "metadata": {},
     "output_type": "execute_result"
    }
   ],
   "source": [
    "fraud_people['amount'].describe()"
   ]
  },
  {
   "cell_type": "code",
   "execution_count": 22,
   "id": "ae288f99-f7a8-44d9-81e3-1cf19c875c80",
   "metadata": {},
   "outputs": [
    {
     "data": {
      "text/plain": [
       "count    6.354407e+06\n",
       "mean     1.781970e+05\n",
       "std      5.962370e+05\n",
       "min      1.000000e-02\n",
       "25%      1.336840e+04\n",
       "50%      7.468472e+04\n",
       "75%      2.083648e+05\n",
       "max      9.244552e+07\n",
       "Name: amount, dtype: float64"
      ]
     },
     "execution_count": 22,
     "metadata": {},
     "output_type": "execute_result"
    }
   ],
   "source": [
    "normal_people['amount'].describe()"
   ]
  },
  {
   "cell_type": "code",
   "execution_count": 45,
   "id": "6b11e68e-bda0-49bf-9692-81a0c6a52162",
   "metadata": {},
   "outputs": [
    {
     "data": {
      "image/png": "[encoded data removed]",
      "text/plain": [
       "<Figure size 640x480 with 2 Axes>"
      ]
     },
     "metadata": {},
     "output_type": "display_data"
    }
   ],
   "source": [
    "graph, (plot1, plot2) = plt.subplots(2,1,sharex = True) \n",
    "graph.suptitle(\"Average amount per class\")\n",
    "bins = 70\n",
    "\n",
    "plot1.hist(fraud_people['amount'], bins = bins)\n",
    "plot1.set_title('Fraud Amount')\n",
    "\n",
    "plot2.hist(normal_people['amount'], bins = bins)\n",
    "plot2.set_title('Normal Amount')\n",
    "\n",
    "plt.xlabel('amount ($) ')\n",
    "plt.ylabel('Number of Transactions')\n",
    "plt.yscale('log')\n",
    "plt.show();"
   ]
  },
  {
   "cell_type": "code",
   "execution_count": 24,
   "id": "da04f32b-3571-403c-aa53-ddac22c772fb",
   "metadata": {},
   "outputs": [
    {
     "data": {
      "text/plain": [
       "step                int64\n",
       "type               object\n",
       "amount            float64\n",
       "nameOrig           object\n",
       "oldBalanceOrig    float64\n",
       "newBalanceOrig    float64\n",
       "nameDest           object\n",
       "oldBalanceDest    float64\n",
       "newBalanceDest    float64\n",
       "isFraud             int64\n",
       "isFlaggedFraud      int64\n",
       "dtype: object"
      ]
     },
     "execution_count": 24,
     "metadata": {},
     "output_type": "execute_result"
    }
   ],
   "source": [
    "df.dtypes"
   ]
  },
  {
   "cell_type": "code",
   "execution_count": 46,
   "id": "2bdbaa6a-4fad-44f7-89b6-f6275e442b53",
   "metadata": {},
   "outputs": [],
   "source": [
    "columns = df.columns.tolist()\n",
    "columns = [var for var in columns if var not in [\"isFraud\"]]\n",
    "target = \"isFraud\"\n",
    "x = df[columns]\n",
    "y = df[target]"
   ]
  },
  {
   "cell_type": "code",
   "execution_count": 26,
   "id": "9775301f-b921-4cff-9f60-04629260d3ec",
   "metadata": {},
   "outputs": [
    {
     "name": "stderr",
     "output_type": "stream",
     "text": [
      "/var/folders/pd/cn2f6bwj5xldgl8r6p_2vr640000gn/T/ipykernel_4345/1353995510.py:1: SettingWithCopyWarning: \n",
      "A value is trying to be set on a copy of a slice from a DataFrame\n",
      "\n",
      "See the caveats in the documentation: https://pandas.pydata.org/pandas-docs/stable/user_guide/indexing.html#returning-a-view-versus-a-copy\n",
      "  x['type'].replace(['CASH_IN','CASH_OUT','DEBIT','PAYMENT','TRANSFER'],['1','2','3','4','5',], inplace=True)\n"
     ]
    }
   ],
   "source": [
    "x['type'].replace(['CASH_IN','CASH_OUT','DEBIT','PAYMENT','TRANSFER'],['1','2','3','4','5',], inplace=True)"
   ]
  },
  {
   "cell_type": "code",
   "execution_count": 27,
   "id": "28678561-d400-4bcd-95dd-2a05bf029975",
   "metadata": {},
   "outputs": [
    {
     "name": "stderr",
     "output_type": "stream",
     "text": [
      "/var/folders/pd/cn2f6bwj5xldgl8r6p_2vr640000gn/T/ipykernel_4345/3751962154.py:1: SettingWithCopyWarning: \n",
      "A value is trying to be set on a copy of a slice from a DataFrame\n",
      "\n",
      "See the caveats in the documentation: https://pandas.pydata.org/pandas-docs/stable/user_guide/indexing.html#returning-a-view-versus-a-copy\n",
      "  x.drop(['nameOrig','nameDest','isFlaggedFraud'],axis=1, inplace=True)\n"
     ]
    },
    {
     "data": {
      "text/html": [
       "<div>\n",
       "<style scoped>\n",
       "    .dataframe tbody tr th:only-of-type {\n",
       "        vertical-align: middle;\n",
       "    }\n",
       "\n",
       "    .dataframe tbody tr th {\n",
       "        vertical-align: top;\n",
       "    }\n",
       "\n",
       "    .dataframe thead th {\n",
       "        text-align: right;\n",
       "    }\n",
       "</style>\n",
       "<table border=\"1\" class=\"dataframe\">\n",
       "  <thead>\n",
       "    <tr style=\"text-align: right;\">\n",
       "      <th></th>\n",
       "      <th>step</th>\n",
       "      <th>type</th>\n",
       "      <th>amount</th>\n",
       "      <th>oldBalanceOrig</th>\n",
       "      <th>newBalanceOrig</th>\n",
       "      <th>oldBalanceDest</th>\n",
       "      <th>newBalanceDest</th>\n",
       "    </tr>\n",
       "  </thead>\n",
       "  <tbody>\n",
       "    <tr>\n",
       "      <th>0</th>\n",
       "      <td>1</td>\n",
       "      <td>4</td>\n",
       "      <td>9839.64</td>\n",
       "      <td>170136.0</td>\n",
       "      <td>160296.36</td>\n",
       "      <td>0.0</td>\n",
       "      <td>0.0</td>\n",
       "    </tr>\n",
       "    <tr>\n",
       "      <th>1</th>\n",
       "      <td>1</td>\n",
       "      <td>4</td>\n",
       "      <td>1864.28</td>\n",
       "      <td>21249.0</td>\n",
       "      <td>19384.72</td>\n",
       "      <td>0.0</td>\n",
       "      <td>0.0</td>\n",
       "    </tr>\n",
       "    <tr>\n",
       "      <th>2</th>\n",
       "      <td>1</td>\n",
       "      <td>5</td>\n",
       "      <td>181.00</td>\n",
       "      <td>181.0</td>\n",
       "      <td>0.00</td>\n",
       "      <td>0.0</td>\n",
       "      <td>0.0</td>\n",
       "    </tr>\n",
       "    <tr>\n",
       "      <th>3</th>\n",
       "      <td>1</td>\n",
       "      <td>2</td>\n",
       "      <td>181.00</td>\n",
       "      <td>181.0</td>\n",
       "      <td>0.00</td>\n",
       "      <td>21182.0</td>\n",
       "      <td>0.0</td>\n",
       "    </tr>\n",
       "    <tr>\n",
       "      <th>4</th>\n",
       "      <td>1</td>\n",
       "      <td>4</td>\n",
       "      <td>11668.14</td>\n",
       "      <td>41554.0</td>\n",
       "      <td>29885.86</td>\n",
       "      <td>0.0</td>\n",
       "      <td>0.0</td>\n",
       "    </tr>\n",
       "  </tbody>\n",
       "</table>\n",
       "</div>"
      ],
      "text/plain": [
       "   step type    amount  oldBalanceOrig  newBalanceOrig  oldBalanceDest  \\\n",
       "0     1    4   9839.64        170136.0       160296.36             0.0   \n",
       "1     1    4   1864.28         21249.0        19384.72             0.0   \n",
       "2     1    5    181.00           181.0            0.00             0.0   \n",
       "3     1    2    181.00           181.0            0.00         21182.0   \n",
       "4     1    4  11668.14         41554.0        29885.86             0.0   \n",
       "\n",
       "   newBalanceDest  \n",
       "0             0.0  \n",
       "1             0.0  \n",
       "2             0.0  \n",
       "3             0.0  \n",
       "4             0.0  "
      ]
     },
     "execution_count": 27,
     "metadata": {},
     "output_type": "execute_result"
    }
   ],
   "source": [
    "x.drop(['nameOrig','nameDest','isFlaggedFraud'],axis=1, inplace=True)\n",
    "x.head()"
   ]
  },
  {
   "cell_type": "code",
   "execution_count": 28,
   "id": "e42b7cb6-c06b-43a6-b4d1-6d40d58aa337",
   "metadata": {},
   "outputs": [
    {
     "data": {
      "text/plain": [
       "0    0\n",
       "1    0\n",
       "2    1\n",
       "3    1\n",
       "4    0\n",
       "Name: isFraud, dtype: int64"
      ]
     },
     "execution_count": 28,
     "metadata": {},
     "output_type": "execute_result"
    }
   ],
   "source": [
    "y.head()"
   ]
  },
  {
   "cell_type": "code",
   "execution_count": 29,
   "id": "7e6440de-0673-4afb-9463-b00f78c0c398",
   "metadata": {},
   "outputs": [],
   "source": [
    "from sklearn.model_selection import train_test_split\n",
    "x_train, x_test, y_train, y_test = train_test_split(x,y, test_size=0.30, random_state = 42)"
   ]
  },
  {
   "cell_type": "code",
   "execution_count": 30,
   "id": "d7bfdfea-04eb-424c-990e-79ef4fa1213c",
   "metadata": {},
   "outputs": [],
   "source": [
    "iso_forest = IsolationForest(n_estimators =100, max_samples = len(x_train), random_state=0, verbose=0)"
   ]
  },
  {
   "cell_type": "code",
   "execution_count": 31,
   "id": "a26b7811-8c4f-4b81-abad-8f42ebf37ea3",
   "metadata": {},
   "outputs": [
    {
     "data": {
      "text/html": [
       "<style>#sk-container-id-1 {color: black;background-color: white;}#sk-container-id-1 pre{padding: 0;}#sk-container-id-1 div.sk-toggleable {background-color: white;}#sk-container-id-1 label.sk-toggleable__label {cursor: pointer;display: block;width: 100%;margin-bottom: 0;padding: 0.3em;box-sizing: border-box;text-align: center;}#sk-container-id-1 label.sk-toggleable__label-arrow:before {content: \"▸\";float: left;margin-right: 0.25em;color: #696969;}#sk-container-id-1 label.sk-toggleable__label-arrow:hover:before {color: black;}#sk-container-id-1 div.sk-estimator:hover label.sk-toggleable__label-arrow:before {color: black;}#sk-container-id-1 div.sk-toggleable__content {max-height: 0;max-width: 0;overflow: hidden;text-align: left;background-color: #f0f8ff;}#sk-container-id-1 div.sk-toggleable__content pre {margin: 0.2em;color: black;border-radius: 0.25em;background-color: #f0f8ff;}#sk-container-id-1 input.sk-toggleable__control:checked~div.sk-toggleable__content {max-height: 200px;max-width: 100%;overflow: auto;}#sk-container-id-1 input.sk-toggleable__control:checked~label.sk-toggleable__label-arrow:before {content: \"▾\";}#sk-container-id-1 div.sk-estimator input.sk-toggleable__control:checked~label.sk-toggleable__label {background-color: #d4ebff;}#sk-container-id-1 div.sk-label input.sk-toggleable__control:checked~label.sk-toggleable__label {background-color: #d4ebff;}#sk-container-id-1 input.sk-hidden--visually {border: 0;clip: rect(1px 1px 1px 1px);clip: rect(1px, 1px, 1px, 1px);height: 1px;margin: -1px;overflow: hidden;padding: 0;position: absolute;width: 1px;}#sk-container-id-1 div.sk-estimator {font-family: monospace;background-color: #f0f8ff;border: 1px dotted black;border-radius: 0.25em;box-sizing: border-box;margin-bottom: 0.5em;}#sk-container-id-1 div.sk-estimator:hover {background-color: #d4ebff;}#sk-container-id-1 div.sk-parallel-item::after {content: \"\";width: 100%;border-bottom: 1px solid gray;flex-grow: 1;}#sk-container-id-1 div.sk-label:hover label.sk-toggleable__label {background-color: #d4ebff;}#sk-container-id-1 div.sk-serial::before {content: \"\";position: absolute;border-left: 1px solid gray;box-sizing: border-box;top: 0;bottom: 0;left: 50%;z-index: 0;}#sk-container-id-1 div.sk-serial {display: flex;flex-direction: column;align-items: center;background-color: white;padding-right: 0.2em;padding-left: 0.2em;position: relative;}#sk-container-id-1 div.sk-item {position: relative;z-index: 1;}#sk-container-id-1 div.sk-parallel {display: flex;align-items: stretch;justify-content: center;background-color: white;position: relative;}#sk-container-id-1 div.sk-item::before, #sk-container-id-1 div.sk-parallel-item::before {content: \"\";position: absolute;border-left: 1px solid gray;box-sizing: border-box;top: 0;bottom: 0;left: 50%;z-index: -1;}#sk-container-id-1 div.sk-parallel-item {display: flex;flex-direction: column;z-index: 1;position: relative;background-color: white;}#sk-container-id-1 div.sk-parallel-item:first-child::after {align-self: flex-end;width: 50%;}#sk-container-id-1 div.sk-parallel-item:last-child::after {align-self: flex-start;width: 50%;}#sk-container-id-1 div.sk-parallel-item:only-child::after {width: 0;}#sk-container-id-1 div.sk-dashed-wrapped {border: 1px dashed gray;margin: 0 0.4em 0.5em 0.4em;box-sizing: border-box;padding-bottom: 0.4em;background-color: white;}#sk-container-id-1 div.sk-label label {font-family: monospace;font-weight: bold;display: inline-block;line-height: 1.2em;}#sk-container-id-1 div.sk-label-container {text-align: center;}#sk-container-id-1 div.sk-container {/* jupyter's `normalize.less` sets `[hidden] { display: none; }` but bootstrap.min.css set `[hidden] { display: none !important; }` so we also need the `!important` here to be able to override the default hidden behavior on the sphinx rendered scikit-learn.org. See: https://github.com/scikit-learn/scikit-learn/issues/21755 */display: inline-block !important;position: relative;}#sk-container-id-1 div.sk-text-repr-fallback {display: none;}</style><div id=\"sk-container-id-1\" class=\"sk-top-container\"><div class=\"sk-text-repr-fallback\"><pre>IsolationForest(max_samples=4453834, random_state=0)</pre><b>In a Jupyter environment, please rerun this cell to show the HTML representation or trust the notebook. <br />On GitHub, the HTML representation is unable to render, please try loading this page with nbviewer.org.</b></div><div class=\"sk-container\" hidden><div class=\"sk-item\"><div class=\"sk-estimator sk-toggleable\"><input class=\"sk-toggleable__control sk-hidden--visually\" id=\"sk-estimator-id-1\" type=\"checkbox\" checked><label for=\"sk-estimator-id-1\" class=\"sk-toggleable__label sk-toggleable__label-arrow\">IsolationForest</label><div class=\"sk-toggleable__content\"><pre>IsolationForest(max_samples=4453834, random_state=0)</pre></div></div></div></div></div>"
      ],
      "text/plain": [
       "IsolationForest(max_samples=4453834, random_state=0)"
      ]
     },
     "execution_count": 31,
     "metadata": {},
     "output_type": "execute_result"
    }
   ],
   "source": [
    "iso_forest.fit(x_train,y_train)"
   ]
  },
  {
   "cell_type": "code",
   "execution_count": 32,
   "id": "5f4edf56-915a-4a71-bbb3-725210204960",
   "metadata": {},
   "outputs": [],
   "source": [
    "ypred = iso_forest.predict(x_test)"
   ]
  },
  {
   "cell_type": "code",
   "execution_count": 33,
   "id": "ab59c4bf-b105-4bea-a4d3-3d907115c783",
   "metadata": {},
   "outputs": [],
   "source": [
    "ypred[ypred == 1] = 0\n",
    "ypred[ypred == -1] = 1"
   ]
  },
  {
   "cell_type": "code",
   "execution_count": 34,
   "id": "ce554cb4-35a1-4eef-9506-5b3683661389",
   "metadata": {},
   "outputs": [
    {
     "name": "stdout",
     "output_type": "stream",
     "text": [
      "0.9931794344677717\n"
     ]
    }
   ],
   "source": [
    "print(accuracy_score(y_test,ypred))"
   ]
  },
  {
   "cell_type": "code",
   "execution_count": 35,
   "id": "c0cb737f-b330-42fd-80ca-d87ad4ec60a3",
   "metadata": {},
   "outputs": [
    {
     "name": "stdout",
     "output_type": "stream",
     "text": [
      "              precision    recall  f1-score   support\n",
      "\n",
      "           0       1.00      0.99      1.00   1906351\n",
      "           1       0.05      0.22      0.08      2435\n",
      "\n",
      "    accuracy                           0.99   1908786\n",
      "   macro avg       0.52      0.61      0.54   1908786\n",
      "weighted avg       1.00      0.99      1.00   1908786\n",
      "\n"
     ]
    }
   ],
   "source": [
    "print(classification_report(y_test,ypred))"
   ]
  },
  {
   "cell_type": "code",
   "execution_count": 36,
   "id": "9f55f347-1b31-48f2-9d78-d8d75867afb4",
   "metadata": {},
   "outputs": [],
   "source": [
    "from sklearn.metrics import confusion_matrix"
   ]
  },
  {
   "cell_type": "code",
   "execution_count": 37,
   "id": "65e62dc0-02e1-453a-b935-d2b3c0b753dc",
   "metadata": {},
   "outputs": [
    {
     "data": {
      "text/plain": [
       "array([[1895225,   11126],\n",
       "       [   1893,     542]])"
      ]
     },
     "execution_count": 37,
     "metadata": {},
     "output_type": "execute_result"
    }
   ],
   "source": [
    "confusion_matrix(y_test, ypred)"
   ]
  },
  {
   "cell_type": "code",
   "execution_count": 38,
   "id": "131d6da1-32f4-4dc5-ac76-3ac282aa48d3",
   "metadata": {},
   "outputs": [
    {
     "name": "stdout",
     "output_type": "stream",
     "text": [
      "Isolation Forest have 13019 erorrs.\n"
     ]
    }
   ],
   "source": [
    "n_erorrs = (ypred != y_test).sum()\n",
    "print(\"Isolation Forest have {} erorrs.\".format(n_erorrs))"
   ]
  },
  {
   "cell_type": "markdown",
   "id": "f97193d3-1321-4095-aa9a-07a2b8defdc6",
   "metadata": {},
   "source": [
    "### ANSWERING THE QUESTIONS\n",
    "\n",
    "1. The data didnt include any missing/ null values, I performed a check for this. For outlier detection I have used IsolationForest which I imported from sklearn.ensemble library.\n",
    "\n",
    "2. So basically, my fraud detection model detects what types of transaction are fraudlents and in this model we drop the features that do not encode with the merchant account. In this model we also see the distribution graphically. I've used the Isolation Forest for our Anamoly Detection.\n",
    "ISOLATION FOREST: The algorithm is based on the fact that anomalies that are few and different. As a result of these properties, anomalies are susceptible to a mechanism called isolation.\n",
    "So, by this method the model gave an accuracy score of more than 0.99. At last I've also checked the errors my model have.\n",
    "\n",
    "3. I selected the variables on the basis of their use, for training the model I've taken 'x' as coloumn of the data provided, 'y' as target. x_train and y_train to train the data and x_test, y_test to test the trained model data.\n",
    "\n",
    "4. So firstly, the prepared data is loaded by using pandas library, then the data is cleaned if any null value is present or not. After that we train our model, firstly we choose the model and then train it accordingly. Then we can visualise our model by seaborn libraries.\n",
    "\n",
    "5. Key factors typically includes ;\n",
    "a)Transactional Features:\n",
    "Transaction Amount, Transaction Frequency, Merchant Type. Unusual large transactions happening, High frequency of transaction or transactions happening with certain type of merchants may be prone to fraud.\n",
    "b)Customer Behavior: Age and Gender, Income Level, Employment Status\n",
    "c)Historical Data : Previous Fraud Incidents, Credit Score, Transaction Reversals\n",
    "   ###### In machine learning we detect fraud transactions by help of outliers and anomalies.\n",
    "\n",
    "6. Yes, these factors do make sense for predicting fraudulent customers. Each factor is logically associated with patterns of behavior that are often observed in fraudulent activities.\n",
    "Detecting outliers in transaction amounts helps identify potentially fraudulent transactions.\n",
    "Monitoring frequency helps flag accounts with suspiciously high transaction rates.\n",
    "Analyzing transaction times can reveal abnormal activity patterns.\n",
    "Transactions with high-risk merchants can be given extra scrutiny.\n",
    "Detecting outliers helps focus attention on the most suspicious transactions.\n",
    "\n",
    "7. Data Encryption, Access Control and Authentication, Access Control and Authentication, Incident Response Plan, Vendor and Third-Party Management, Monitoring and Logging\n",
    "\n",
    "8. Determining the effectiveness of the implemented preventive actions requires continuous monitoring, evaluation, and adjustment.\n",
    "Key Performance Indicators (KPIs) and Metrics, Incident Response Testing, User Feedback and Training Effectiveness, Review and Continuous Improvement"
   ]
  },
  {
   "cell_type": "code",
   "execution_count": null,
   "id": "60cff3f7-779a-4edb-a279-737fa6b30b0b",
   "metadata": {},
   "outputs": [],
   "source": []
  }
 ],
 "metadata": {
  "kernelspec": {
   "display_name": "Python 3 (ipykernel)",
   "language": "python",
   "name": "python3"
  },
  "language_info": {
   "codemirror_mode": {
    "name": "ipython",
    "version": 3
   },
   "file_extension": ".py",
   "mimetype": "text/x-python",
   "name": "python",
   "nbconvert_exporter": "python",
   "pygments_lexer": "ipython3",
   "version": "3.11.7"
  }
 },
 "nbformat": 4,
 "nbformat_minor": 5
}
